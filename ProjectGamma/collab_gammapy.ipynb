{
 "cells": [
  {
   "cell_type": "code",
   "execution_count": null,
   "metadata": {
    "colab": {
     "base_uri": "https://localhost:8080/"
    },
    "id": "jVWZKmDA-93T",
    "outputId": "e81619d5-127d-43bd-92e5-606c39eaf323"
   },
   "outputs": [],
   "source": [
    "# Install gammapy\n",
    "# Afterwards press 'Restart Runtime'\n",
    "!pip install gammapy"
   ]
  },
  {
   "cell_type": "code",
   "execution_count": null,
   "metadata": {
    "id": "GBeiE6Om_NcI"
   },
   "outputs": [],
   "source": [
    "import gammapy"
   ]
  },
  {
   "cell_type": "code",
   "execution_count": null,
   "metadata": {
    "colab": {
     "base_uri": "https://localhost:8080/"
    },
    "id": "9veKnyil_or7",
    "outputId": "1a21ef70-4acd-49ac-c86b-36ae3cb54527"
   },
   "outputs": [],
   "source": [
    "!gammapy download datasets"
   ]
  },
  {
   "cell_type": "code",
   "execution_count": null,
   "metadata": {
    "id": "S39dif1LfvJe"
   },
   "outputs": [],
   "source": [
    "import os\n",
    "os.environ['GAMMAPY_DATA'] = '/content/gammapy-datasets/1.3'"
   ]
  },
  {
   "cell_type": "code",
   "execution_count": null,
   "metadata": {
    "colab": {
     "base_uri": "https://localhost:8080/"
    },
    "id": "a6dL_jkz_tTr",
    "outputId": "9a54bf69-871b-466d-a193-b294572a38f8"
   },
   "outputs": [],
   "source": [
    "!echo $GAMMAPY_DATA"
   ]
  },
  {
   "cell_type": "code",
   "execution_count": null,
   "metadata": {
    "id": "vUykHHB7gEFd"
   },
   "outputs": [],
   "source": [
    "import numpy as np\n",
    "import astropy.units as u\n",
    "from astropy.coordinates import SkyCoord, Angle\n",
    "import matplotlib.pyplot as plt"
   ]
  },
  {
   "cell_type": "code",
   "execution_count": null,
   "metadata": {
    "id": "brJompWtgJ2n"
   },
   "outputs": [],
   "source": [
    "from gammapy.irf import load_irf_dict_from_file"
   ]
  },
  {
   "cell_type": "code",
   "execution_count": null,
   "metadata": {},
   "outputs": [],
   "source": [
    "irfs = load_irf_dict_from_file(\n",
    "    \"$GAMMAPY_DATA/cta-1dc/caldb/data/cta/1dc/bcf/South_z20_50h/irf_file.fits\"\n",
    ")"
   ]
  },
  {
   "cell_type": "code",
   "execution_count": null,
   "metadata": {
    "id": "v1iB3w0EhLny"
   },
   "outputs": [],
   "source": []
  }
 ],
 "metadata": {
  "colab": {
   "provenance": []
  },
  "kernelspec": {
   "display_name": "Python 3 (ipykernel)",
   "language": "python",
   "name": "python3"
  },
  "language_info": {
   "codemirror_mode": {
    "name": "ipython",
    "version": 3
   },
   "file_extension": ".py",
   "mimetype": "text/x-python",
   "name": "python",
   "nbconvert_exporter": "python",
   "pygments_lexer": "ipython3",
   "version": "3.11.13"
  }
 },
 "nbformat": 4,
 "nbformat_minor": 4
}
